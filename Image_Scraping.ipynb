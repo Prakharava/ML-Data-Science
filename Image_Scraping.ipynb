{
  "nbformat": 4,
  "nbformat_minor": 0,
  "metadata": {
    "colab": {
      "provenance": [],
      "authorship_tag": "ABX9TyODE5ZWzcIWfXi1iwbm3uNa",
      "include_colab_link": true
    },
    "kernelspec": {
      "name": "python3",
      "display_name": "Python 3"
    },
    "language_info": {
      "name": "python"
    }
  },
  "cells": [
    {
      "cell_type": "markdown",
      "metadata": {
        "id": "view-in-github",
        "colab_type": "text"
      },
      "source": [
        "<a href=\"https://colab.research.google.com/github/Prakharava/ML-Data-Science/blob/main/Image_Scraping.ipynb\" target=\"_parent\"><img src=\"https://colab.research.google.com/assets/colab-badge.svg\" alt=\"Open In Colab\"/></a>"
      ]
    },
    {
      "cell_type": "code",
      "execution_count": 8,
      "metadata": {
        "id": "OqjskjBqMye0"
      },
      "outputs": [],
      "source": [
        "import requests\n",
        "from bs4 import BeautifulSoup\n",
        "from urllib.parse import urljoin"
      ]
    },
    {
      "cell_type": "code",
      "source": [
        "url = 'https://www.superkicks.in/collections/nike'"
      ],
      "metadata": {
        "id": "vGhdpClPTOpl"
      },
      "execution_count": 9,
      "outputs": []
    },
    {
      "cell_type": "code",
      "source": [
        "response = requests.get(url)"
      ],
      "metadata": {
        "id": "jE4hkTNlTWZO"
      },
      "execution_count": 10,
      "outputs": []
    },
    {
      "cell_type": "code",
      "source": [
        "response.raise_for_status()"
      ],
      "metadata": {
        "id": "gaG9OWtwTibS"
      },
      "execution_count": 11,
      "outputs": []
    },
    {
      "cell_type": "code",
      "source": [
        "soup = BeautifulSoup(response.text, 'html.parser')"
      ],
      "metadata": {
        "id": "RKEjjdbXUUI8"
      },
      "execution_count": 12,
      "outputs": []
    },
    {
      "cell_type": "code",
      "source": [
        "img_tags = soup.find_all('img')"
      ],
      "metadata": {
        "id": "Bs7bfQc_Ue8r"
      },
      "execution_count": 13,
      "outputs": []
    },
    {
      "cell_type": "code",
      "source": [
        "for img in img_tags:\n",
        "  img_url = img.get('src')\n",
        "  if not img_url:\n",
        "    continue\n",
        "\n",
        "  img_url = urljoin(url, img_url)\n",
        "\n",
        "  print(img_url)"
      ],
      "metadata": {
        "colab": {
          "base_uri": "https://localhost:8080/"
        },
        "id": "vPOogfu_Um7v",
        "outputId": "6049ab4f-aa23-401f-f797-672cac35315e"
      },
      "execution_count": 14,
      "outputs": [
        {
          "output_type": "stream",
          "name": "stdout",
          "text": [
            "https://www.superkicks.in/cdn/shop/products/1_b81d2248-4d8f-458c-a5f8-f43eb7fd8ed4.jpg?v=1675958421&width=1500\n",
            "https://www.superkicks.in/cdn/shop/files/squarelogo-2_2x_435ae8f5-0c82-4cb6-926d-49d17d86ac01.png?v=1670233733\n",
            "https://www.superkicks.in/cdn/shop/files/1_12.png?v=1692187702\n",
            "https://www.superkicks.in/cdn/shop/files/Classic_leather.png?v=1692190753\n",
            "https://www.superkicks.in/cdn/shop/files/1_21.png?v=1695388944\n",
            "https://www.superkicks.in/cdn/shop/files/2_9.png?v=1695388931\n",
            "https://www.superkicks.in/cdn/shop/files/3_2.png?v=1692190944\n",
            "https://www.superkicks.in/cdn/shop/files/0_4.png?v=1692189921\n",
            "https://www.superkicks.in/cdn/shop/files/3_aa738861-5090-4505-b4c7-7d2c96ec963f.jpg?v=1715158233&width=533\n",
            "https://www.superkicks.in/cdn/shop/files/ECOMS_d2cb3159-37ec-478c-8c5c-1252e927edf9.jpg?v=1715158233&width=533\n",
            "https://www.superkicks.in/cdn/shop/products/1_b81d2248-4d8f-458c-a5f8-f43eb7fd8ed4.jpg?v=1675958421&width=533\n",
            "https://www.superkicks.in/cdn/shop/products/2_c6dce12d-8d76-475d-8800-866449fb6810.jpg?v=1675958421&width=533\n",
            "https://www.superkicks.in/cdn/shop/files/1-2024-02-06T155224.543.jpg?v=1707215426&width=533\n",
            "https://www.superkicks.in/cdn/shop/files/2-2024-02-06T155226.571.jpg?v=1707215426&width=533\n",
            "https://www.superkicks.in/cdn/shop/files/1_1bd19ece-46e1-4b51-b2c4-46a5ba29f856.jpg?v=1718695478&width=533\n",
            "https://www.superkicks.in/cdn/shop/files/2_c3d9e5c9-861d-46f2-8a4e-78940505e1f7.jpg?v=1718695478&width=533\n",
            "https://www.superkicks.in/cdn/shop/files/1_cb81439f-9871-4d41-8a5e-ead631695c92.jpg?v=1701417955&width=533\n",
            "https://www.superkicks.in/cdn/shop/files/2_de288e8f-38bd-4fc9-acdb-4e614dd5cadb.jpg?v=1701417954&width=533\n",
            "https://www.superkicks.in/cdn/shop/files/1_547eda32-857d-4e58-8123-8b407d712c31.jpg?v=1718259165&width=533\n",
            "https://www.superkicks.in/cdn/shop/files/2_9915842e-c1ac-48e6-bdef-0656a6027dca.jpg?v=1718259165&width=533\n",
            "https://www.superkicks.in/cdn/shop/files/1_7c14bdc1-ee8d-4e06-b324-4052d1bbb205.jpg?v=1715607453&width=533\n",
            "https://www.superkicks.in/cdn/shop/files/2_e601cb6f-7b08-45e5-b512-c21f40caaac8.jpg?v=1715607453&width=533\n",
            "https://www.superkicks.in/cdn/shop/files/1_ab185475-2bba-4564-91e8-a5582b028cd7.jpg?v=1701349909&width=533\n",
            "https://www.superkicks.in/cdn/shop/files/2_714339e3-5167-423c-9b59-5d92595886fe.jpg?v=1701349909&width=533\n",
            "https://www.superkicks.in/cdn/shop/files/1_2d0f89f7-4be2-4912-8a61-0790b1836bbe.jpg?v=1706605629&width=533\n",
            "https://www.superkicks.in/cdn/shop/files/2_183dee02-a576-4ae2-ad39-4bd353c4ba22.jpg?v=1706605629&width=533\n",
            "https://www.superkicks.in/cdn/shop/products/1-15_d63b6019-4300-4000-81d6-c236483e711b.jpg?v=1675964287&width=533\n",
            "https://www.superkicks.in/cdn/shop/products/2-15_f76f931e-fdec-4207-b365-8232a2c4fa89.jpg?v=1675964287&width=533\n",
            "https://www.superkicks.in/cdn/shop/files/1_8c946e8c-21bc-49a2-a261-c5d75e09fe6c.jpg?v=1715411539&width=533\n",
            "https://www.superkicks.in/cdn/shop/files/2_bf22a76b-7f3e-494a-8dfc-b8eacaf71e3a.jpg?v=1715411539&width=533\n",
            "https://www.superkicks.in/cdn/shop/files/1-2024-01-12T150904.022.jpg?v=1705052393&width=533\n",
            "https://www.superkicks.in/cdn/shop/files/2-2024-01-12T150906.754.jpg?v=1705052393&width=533\n",
            "https://www.superkicks.in/cdn/shop/files/1_85654db8-009c-4090-9606-4dbe6f090322.jpg?v=1699518175&width=533\n",
            "https://www.superkicks.in/cdn/shop/files/2_54c45a09-63e7-46a5-b5c5-6806b39d1dcb.jpg?v=1699518175&width=533\n",
            "https://www.superkicks.in/cdn/shop/files/1_a403e4c4-c577-46e4-a318-b7dc93f79bc7.jpg?v=1705758675&width=533\n",
            "https://www.superkicks.in/cdn/shop/files/2_787f9433-3cc8-4724-ab3b-d6c69f285106.jpg?v=1705759267&width=533\n",
            "https://www.superkicks.in/cdn/shop/files/1_8a88cfeb-dac1-4214-b6a0-60c288fffbbf.jpg?v=1715411076&width=533\n",
            "https://www.superkicks.in/cdn/shop/files/2_262be6e3-4aa1-4dc8-b520-201ea75ce88a.jpg?v=1715411076&width=533\n",
            "https://www.superkicks.in/cdn/shop/files/1_f7e1a280-de4a-41ad-a43f-77b1fcf429ac.jpg?v=1716445660&width=533\n",
            "https://www.superkicks.in/cdn/shop/files/2_02adf09c-c5d1-4049-b6ed-200a8ea593a6.jpg?v=1716445660&width=533\n",
            "https://www.superkicks.in/cdn/shop/files/1_dcced875-aa69-4687-a1ce-50f4d2f5e0d0.jpg?v=1719231633&width=533\n",
            "https://www.superkicks.in/cdn/shop/files/3_412f933a-6d0a-4194-afb6-7bff7285eaba.jpg?v=1719231633&width=533\n",
            "https://www.superkicks.in/cdn/shop/files/1_4f29caa9-a83d-4c99-8b04-521e26c024f7.jpg?v=1715411170&width=533\n",
            "https://www.superkicks.in/cdn/shop/files/2_120d2f65-30dd-4379-b50b-49b1d8bfe4d6.jpg?v=1715411170&width=533\n",
            "https://www.superkicks.in/cdn/shop/files/2_a3042b0c-c8d3-4bc5-a64d-7ef8a99c3891.jpg?v=1718196758&width=533\n",
            "https://www.superkicks.in/cdn/shop/files/3_eff908f5-ed21-494a-ba1f-645f6c6400d7.jpg?v=1718196758&width=533\n",
            "https://www.superkicks.in/cdn/shop/files/1_081a893d-b7e6-4789-9cec-8ae29c263aca.jpg?v=1718197877&width=533\n",
            "https://www.superkicks.in/cdn/shop/files/3_5528365b-49ac-4452-9787-246f0a3cc4e4.jpg?v=1718197877&width=533\n",
            "https://www.superkicks.in/cdn/shop/files/1-2024-06-19T185653.948.jpg?v=1718803669&width=533\n",
            "https://www.superkicks.in/cdn/shop/files/2_ec7be12a-9f42-4200-9de2-41409e097091.jpg?v=1718803669&width=533\n",
            "https://www.superkicks.in/cdn/shop/files/1_2c07a6f5-65fa-4f30-8be3-955083672aaf.jpg?v=1719562256&width=533\n",
            "https://www.superkicks.in/cdn/shop/files/2_314936bf-b2de-4f18-a19a-f17c49d27c5e.jpg?v=1719562256&width=533\n",
            "https://www.superkicks.in/cdn/shop/files/1_ec0f5210-fbdb-43ef-a907-3945e22c8444.jpg?v=1718259138&width=533\n",
            "https://www.superkicks.in/cdn/shop/files/2_10d11449-90ef-4a7a-8f10-844ee1d2aa7c.jpg?v=1718259138&width=533\n",
            "https://www.superkicks.in/cdn/shop/files/2_0934e7b5-893e-43fd-969a-f675df37d53d.jpg?v=1716201088&width=533\n",
            "https://www.superkicks.in/cdn/shop/files/1_7b7b59ed-adcb-4aee-8280-27bb565981ee.jpg?v=1716201088&width=533\n",
            "https://www.superkicks.in/cdn/shop/files/1_40b49a92-9107-472e-b8be-63b0329e5ef3.jpg?v=1716366740&width=533\n",
            "https://www.superkicks.in/cdn/shop/files/2_4bff6333-0198-43c6-935c-1c8f269fb215.jpg?v=1716366740&width=533\n",
            "https://www.superkicks.in/cdn/shop/files/1_f1447514-eb44-4650-aa80-969d294e652e.jpg?v=1715174805&width=533\n",
            "https://www.superkicks.in/cdn/shop/files/2_a688020f-7fea-4180-8d7a-d3814ce94c87.jpg?v=1715174805&width=533\n",
            "https://www.superkicks.in/cdn/shop/files/1_b90c2108-064b-4a08-9185-621dc6c17825.jpg?v=1715408933&width=533\n",
            "https://www.superkicks.in/cdn/shop/files/2_a34d335d-83c8-4e32-9997-f14718649dde.jpg?v=1715408933&width=533\n",
            "https://www.superkicks.in/cdn/shop/files/1_cac9b0a3-0b90-4304-9154-9c3469004f12.jpg?v=1719572965&width=533\n",
            "https://www.superkicks.in/cdn/shop/files/3_19569fed-46c3-4836-a297-791819124250.jpg?v=1719572965&width=533\n",
            "https://www.superkicks.in/cdn/shop/files/5_76fd367d-2c1b-4e3f-b815-56acee081d4e.jpg?v=1719565269&width=533\n",
            "https://www.superkicks.in/cdn/shop/files/6_d0ed8925-a9c1-4f26-8d6d-4f4d73221437.jpg?v=1719565269&width=533\n",
            "https://www.superkicks.in/cdn/shop/files/1_3a100940-0e98-49b1-bab2-371c8c8f32e1.jpg?v=1719561931&width=533\n",
            "https://www.superkicks.in/cdn/shop/files/2_767c21b2-d21c-4ade-9b23-516b115d85ee.jpg?v=1719562247&width=533\n",
            "https://www.superkicks.in/cdn/shop/files/1_e60f0e82-31d2-4227-8e92-0184095e33d6.jpg?v=1719407945&width=533\n",
            "https://www.superkicks.in/cdn/shop/files/3_5a41037e-17f4-41fd-ab7c-53261eb11bf7.jpg?v=1719407945&width=533\n",
            "https://www.superkicks.in/cdn/shop/files/1_7f94ad33-4e56-4734-8c00-9a902b82da4a.jpg?v=1719311857&width=533\n",
            "https://www.superkicks.in/cdn/shop/files/3_5984df68-f602-4d9e-8a76-eef7aff61673.jpg?v=1719311857&width=533\n",
            "https://www.superkicks.in/cdn/shop/files/8_fc9adf48-9b33-4c87-a258-5ca17d0227f2.jpg?v=1718781717&width=533\n",
            "https://www.superkicks.in/cdn/shop/files/1_9cf7874b-0a1b-4795-83c9-33ddcb463ae8.jpg?v=1718781717&width=533\n",
            "https://www.superkicks.in/cdn/shop/files/1_3150828d-8016-4ceb-b044-1e616b24a670.jpg?v=1718782409&width=533\n",
            "https://www.superkicks.in/cdn/shop/files/2_5709c45e-01df-4714-895f-64ced7fe3e72.jpg?v=1718782409&width=533\n",
            "https://www.superkicks.in/cdn/shop/files/1_044303cb-db42-43d9-b61d-119997939417.jpg?v=1717569324&width=533\n",
            "https://www.superkicks.in/cdn/shop/files/3_4ceca22a-df10-4e10-ad0f-f3285bf8dd78.jpg?v=1717569324&width=533\n",
            "https://www.superkicks.in/cdn/shop/files/1_361b1b1d-b040-4e7d-b8cd-460194bc0ae0.jpg?v=1718112473&width=533\n",
            "https://www.superkicks.in/cdn/shop/files/2_63b77eb8-956f-4200-b4a3-8f995edbdbd6.jpg?v=1718112473&width=533\n",
            "https://www.superkicks.in/cdn/shop/files/1_f71810c3-b47f-4afb-b8c1-329971ac6160.jpg?v=1717072758&width=533\n",
            "https://www.superkicks.in/cdn/shop/files/3_fadaf523-1ffd-4b46-8d5e-3c058341a317.jpg?v=1717072758&width=533\n",
            "https://www.superkicks.in/cdn/shop/files/1_260b304d-c26a-40b5-afac-3abf77cf7218.jpg?v=1717072741&width=533\n",
            "https://www.superkicks.in/cdn/shop/files/2_002d1813-39b6-4a39-aba9-bcb33583e8c5.jpg?v=1717072741&width=533\n",
            "https://www.superkicks.in/cdn/shop/files/1_b083f487-1cfa-4cf8-bf01-2691999e166e.jpg?v=1717057865&width=533\n",
            "https://www.superkicks.in/cdn/shop/files/2_3cad2f96-8f31-468a-a871-0f07290b01ef.jpg?v=1717057865&width=533\n",
            "https://www.superkicks.in/cdn/shop/files/1_fac2bcb3-adc8-4afd-8c8a-4c4a23c42f3b.jpg?v=1717057951&width=533\n",
            "https://www.superkicks.in/cdn/shop/files/2_8bb6a97b-63fe-46d5-a799-80199584f8d0.jpg?v=1717057951&width=533\n",
            "https://www.superkicks.in/cdn/shop/files/1_57ef3dac-927b-4919-8109-6bdd1693d3dd.jpg?v=1717058417&width=533\n",
            "https://www.superkicks.in/cdn/shop/files/2_55135269-727b-47c3-b90d-b8f2d166f381.jpg?v=1717058417&width=533\n",
            "https://www.superkicks.in/cdn/shop/files/1_f7da1af7-c4fe-45cd-9c4a-8dcff8f28741.jpg?v=1716965289&width=533\n",
            "https://www.superkicks.in/cdn/shop/files/2_a49feee4-a966-4e09-81c6-fc4637475098.jpg?v=1716965289&width=533\n",
            "https://www.superkicks.in/cdn/shop/files/1_95c907ba-95b6-4d8b-9db1-745d10008324.jpg?v=1716626433&width=533\n",
            "https://www.superkicks.in/cdn/shop/files/2_1a57dc1b-2af8-4c0c-9091-8a02d34f536c.jpg?v=1716626433&width=533\n",
            "https://www.superkicks.in/cdn/shop/files/1_1c1996cf-84de-4a98-a7e7-b15ef4bae6f5.jpg?v=1716187945&width=533\n",
            "https://www.superkicks.in/cdn/shop/files/2_b141fff2-6b40-439f-9fa2-1fd8b3d41294.jpg?v=1716187945&width=533\n",
            "https://www.superkicks.in/cdn/shop/files/1_209d9a16-09f6-45c1-97a0-ee552de6993d.jpg?v=1715690997&width=533\n",
            "https://www.superkicks.in/cdn/shop/files/2_1b54262f-3750-415e-b662-b813cd8e60d1.jpg?v=1715690997&width=533\n",
            "https://www.superkicks.in/cdn/shop/files/1_6a65c998-c273-4973-a997-e9458edd4b13.jpg?v=1715690966&width=533\n",
            "https://www.superkicks.in/cdn/shop/files/2_e53d2d9b-822f-4d7f-b61f-6f838841891c.jpg?v=1715690966&width=533\n",
            "https://www.superkicks.in/cdn/shop/files/1_f186833b-addf-4ad6-8d1a-cbb0b474b149.jpg?v=1715691822&width=533\n",
            "https://www.superkicks.in/cdn/shop/files/2_4f68ed2a-5896-4c5e-9573-5992917495cc.jpg?v=1715691822&width=533\n",
            "https://www.superkicks.in/cdn/shop/files/1_f963d63c-c955-4917-b65b-9f684b877f00.jpg?v=1715607629&width=533\n",
            "https://www.superkicks.in/cdn/shop/files/3_95ca0b08-ecbf-4a94-94a0-b5dbd27d9ffb.jpg?v=1715607629&width=533\n"
          ]
        }
      ]
    },
    {
      "cell_type": "code",
      "source": [],
      "metadata": {
        "id": "CbOELAMRVt0u"
      },
      "execution_count": null,
      "outputs": []
    }
  ]
}